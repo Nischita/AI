{
 "cells": [
  {
   "cell_type": "code",
   "execution_count": 1,
   "metadata": {},
   "outputs": [
    {
     "name": "stderr",
     "output_type": "stream",
     "text": [
      "/home/nischita/anaconda/lib/python3.6/site-packages/h5py/__init__.py:36: FutureWarning: Conversion of the second argument of issubdtype from `float` to `np.floating` is deprecated. In future, it will be treated as `np.float64 == np.dtype(float).type`.\n",
      "  from ._conv import register_converters as _register_converters\n",
      "Using TensorFlow backend.\n"
     ]
    }
   ],
   "source": [
    "import numpy\n",
    "from keras.datasets import mnist\n",
    "from keras.models import Sequential\n",
    "from keras.layers import Dense\n",
    "from keras.layers import Dropout\n",
    "from keras.utils import np_utils"
   ]
  },
  {
   "cell_type": "code",
   "execution_count": 2,
   "metadata": {},
   "outputs": [],
   "source": [
    "# fix random seed for reproducibility\n",
    "seed = 17\n",
    "numpy.random.seed(seed)"
   ]
  },
  {
   "cell_type": "code",
   "execution_count": 3,
   "metadata": {},
   "outputs": [],
   "source": [
    "# load data\n",
    "(X_train, y_train), (X_test, y_test) = mnist.load_data()"
   ]
  },
  {
   "cell_type": "code",
   "execution_count": 4,
   "metadata": {},
   "outputs": [],
   "source": [
    "# flatten 28*28 images to a 784 vector for each image\n",
    "num_pixels = X_train.shape[1] * X_train.shape[2]\n",
    "X_train = X_train.reshape(X_train.shape[0], num_pixels).astype('float32')\n",
    "X_test = X_test.reshape(X_test.shape[0], num_pixels).astype('float32')"
   ]
  },
  {
   "cell_type": "code",
   "execution_count": 5,
   "metadata": {},
   "outputs": [],
   "source": [
    "# normalize inputs from 0-255 to 0-1\n",
    "X_train = X_train / 255\n",
    "X_test = X_test / 255"
   ]
  },
  {
   "cell_type": "code",
   "execution_count": 6,
   "metadata": {},
   "outputs": [],
   "source": [
    "#one hot encode outputs\n",
    "y_train = np_utils.to_categorical(y_train)\n",
    "y_test = np_utils.to_categorical(y_test)\n",
    "num_classes = y_test.shape[1]"
   ]
  },
  {
   "cell_type": "code",
   "execution_count": 7,
   "metadata": {},
   "outputs": [],
   "source": [
    "# define the baseline model\n",
    "def baseline_model():\n",
    "   # create model\n",
    "    model = Sequential()\n",
    "    model.add(Dense(num_pixels, input_dim=num_pixels, kernel_initializer='normal', activation='relu'))\n",
    "    model.add(Dense(250, kernel_initializer='normal', activation='tanh'))\n",
    "    model.add(Dense(num_classes, kernel_initializer='normal', activation='softmax'))\n",
    "   # Compile model\n",
    "    model.compile(loss='categorical_crossentropy', optimizer='adagrad', metrics=['accuracy'])\n",
    "    return model"
   ]
  },
  {
   "cell_type": "code",
   "execution_count": 8,
   "metadata": {},
   "outputs": [
    {
     "name": "stdout",
     "output_type": "stream",
     "text": [
      "Train on 60000 samples, validate on 10000 samples\n",
      "Epoch 1/10\n",
      " - 14s - loss: 0.1936 - acc: 0.9412 - val_loss: 0.0965 - val_acc: 0.9697\n",
      "Epoch 2/10\n",
      " - 13s - loss: 0.0707 - acc: 0.9797 - val_loss: 0.0765 - val_acc: 0.9756\n",
      "Epoch 3/10\n",
      " - 13s - loss: 0.0457 - acc: 0.9872 - val_loss: 0.0632 - val_acc: 0.9802\n",
      "Epoch 4/10\n",
      " - 13s - loss: 0.0316 - acc: 0.9915 - val_loss: 0.0614 - val_acc: 0.9804\n",
      "Epoch 5/10\n",
      " - 13s - loss: 0.0227 - acc: 0.9949 - val_loss: 0.0572 - val_acc: 0.9815\n",
      "Epoch 6/10\n",
      " - 13s - loss: 0.0167 - acc: 0.9966 - val_loss: 0.0559 - val_acc: 0.9829\n",
      "Epoch 7/10\n",
      " - 14s - loss: 0.0126 - acc: 0.9979 - val_loss: 0.0546 - val_acc: 0.9838\n",
      "Epoch 8/10\n",
      " - 14s - loss: 0.0095 - acc: 0.9988 - val_loss: 0.0536 - val_acc: 0.9836\n",
      "Epoch 9/10\n",
      " - 13s - loss: 0.0075 - acc: 0.9993 - val_loss: 0.0532 - val_acc: 0.9834\n",
      "Epoch 10/10\n",
      " - 13s - loss: 0.0059 - acc: 0.9995 - val_loss: 0.0530 - val_acc: 0.9845\n",
      "Testing accuracy: 98.45%\n"
     ]
    }
   ],
   "source": [
    "# building the model\n",
    "model = baseline_model()\n",
    "# Fitting the model\n",
    "info = model.fit(X_train, y_train, validation_data=(X_test, y_test), epochs=10, batch_size=100, verbose=2)\n",
    "# Evaluating the model\n",
    "scores = model.evaluate(X_test, y_test, verbose=0)\n",
    "print(\"Testing accuracy: %.2f%%\" % (scores[1]*100))"
   ]
  },
  {
   "cell_type": "code",
   "execution_count": null,
   "metadata": {},
   "outputs": [],
   "source": [
    "#Plot training accuracy vs. epochs\n",
    "epochs = range(10)\n",
    "plt.figure(1) \n",
    "plt.plot(epochs,info.history['acc'],label='acc')\n",
    "plt.xlabel('Epochs')\n",
    "plt.ylabel('Percentage')\n",
    "plt.title('Training Accuracy')\n",
    "\n",
    "#Plot training accuracy vs. epochs \n",
    "plt.figure(2) \n",
    "plt.plot(epochs,info.history['loss'],label='loss')\n",
    "plt.xlabel('Epochs')\n",
    "plt.ylabel('Loss')\n",
    "plt.title('Training Loss')\n",
    "\n",
    "#Plot validation accuracy vs. epochs\n",
    "plt.figure(3)\n",
    "plt.plot(epochs,info.history['val_acc'])\n",
    "plt.xlabel('Epochs')\n",
    "plt.ylabel('Percentage')\n",
    "plt.title('Validation Accuracy')\n",
    " \n",
    "#Plot validation loss vs. epochs\n",
    "plt.figure(4)\n",
    "plt.plot(epochs,info.history['val_loss'])\n",
    "plt.xlabel('Epochs')\n",
    "plt.ylabel('Loss')\n",
    "plt.title('Validation Loss')\n",
    "\n",
    "\n",
    "plt.show()"
   ]
  }
 ],
 "metadata": {
  "kernelspec": {
   "display_name": "Python 3",
   "language": "python",
   "name": "python3"
  },
  "language_info": {
   "codemirror_mode": {
    "name": "ipython",
    "version": 3
   },
   "file_extension": ".py",
   "mimetype": "text/x-python",
   "name": "python",
   "nbconvert_exporter": "python",
   "pygments_lexer": "ipython3",
   "version": "3.6.4"
  }
 },
 "nbformat": 4,
 "nbformat_minor": 2
}
